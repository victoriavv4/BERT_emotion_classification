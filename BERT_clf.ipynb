{
 "cells": [
  {
   "cell_type": "code",
   "execution_count": 2,
   "id": "7942504b",
   "metadata": {},
   "outputs": [],
   "source": [
    "import nltk\n",
    "import re \n",
    "import pandas as pd \n",
    "import matplotlib.pyplot as plt\n",
    "import numpy as np\n",
    "\n",
    "from sklearn.base import BaseEstimator, TransformerMixin\n",
    "from sklearn.pipeline import Pipeline\n",
    "from sklearn.feature_extraction.text import TfidfVectorizer\n",
    "from sklearn.metrics import classification_report, confusion_matrix\n",
    "from sklearn.model_selection import cross_val_predict\n",
    "from imblearn.over_sampling import RandomOverSampler\n",
    "from sklearn.model_selection import train_test_split, RandomizedSearchCV\n",
    "\n",
    "from nltk.corpus import stopwords\n",
    "from nltk.tokenize import word_tokenize\n",
    "from nltk.stem import WordNetLemmatizer \n",
    "from nltk.corpus import wordnet\n",
    "\n",
    "\n",
    "import warnings\n",
    "warnings.filterwarnings('ignore')"
   ]
  },
  {
   "cell_type": "code",
   "execution_count": 3,
   "id": "81857b5c",
   "metadata": {},
   "outputs": [],
   "source": [
    "# importing training and testing data \n",
    "corpus = pd.read_csv('Tweet Emotion Dataset.csv', names=[\"Tweet\", \"Emotion\"], header=None)\n",
    "corpus_test = pd.read_csv('test_dataset.csv', names=[\"Tweet\", \"Emotion\"], header=None)"
   ]
  },
  {
   "cell_type": "markdown",
   "id": "a116665a",
   "metadata": {},
   "source": [
    "### Data Exploration "
   ]
  },
  {
   "cell_type": "code",
   "execution_count": 4,
   "id": "7db54dd1",
   "metadata": {},
   "outputs": [
    {
     "data": {
      "text/html": [
       "<div>\n",
       "<style scoped>\n",
       "    .dataframe tbody tr th:only-of-type {\n",
       "        vertical-align: middle;\n",
       "    }\n",
       "\n",
       "    .dataframe tbody tr th {\n",
       "        vertical-align: top;\n",
       "    }\n",
       "\n",
       "    .dataframe thead th {\n",
       "        text-align: right;\n",
       "    }\n",
       "</style>\n",
       "<table border=\"1\" class=\"dataframe\">\n",
       "  <thead>\n",
       "    <tr style=\"text-align: right;\">\n",
       "      <th></th>\n",
       "      <th>Tweet</th>\n",
       "      <th>Emotion</th>\n",
       "    </tr>\n",
       "  </thead>\n",
       "  <tbody>\n",
       "    <tr>\n",
       "      <th>0</th>\n",
       "      <td>@ZubairSabirPTI  pls dont insult the word 'Molna'</td>\n",
       "      <td>anger</td>\n",
       "    </tr>\n",
       "    <tr>\n",
       "      <th>1</th>\n",
       "      <td>@ArcticFantasy I would have almost took offens...</td>\n",
       "      <td>anger</td>\n",
       "    </tr>\n",
       "    <tr>\n",
       "      <th>2</th>\n",
       "      <td>@IllinoisLoyalty that Rutgers game was an abom...</td>\n",
       "      <td>anger</td>\n",
       "    </tr>\n",
       "    <tr>\n",
       "      <th>3</th>\n",
       "      <td>@CozanGaming that's what lisa asked before she...</td>\n",
       "      <td>anger</td>\n",
       "    </tr>\n",
       "    <tr>\n",
       "      <th>4</th>\n",
       "      <td>Sometimes I get mad over something so minuscul...</td>\n",
       "      <td>anger</td>\n",
       "    </tr>\n",
       "  </tbody>\n",
       "</table>\n",
       "</div>"
      ],
      "text/plain": [
       "                                               Tweet Emotion\n",
       "0  @ZubairSabirPTI  pls dont insult the word 'Molna'   anger\n",
       "1  @ArcticFantasy I would have almost took offens...   anger\n",
       "2  @IllinoisLoyalty that Rutgers game was an abom...   anger\n",
       "3  @CozanGaming that's what lisa asked before she...   anger\n",
       "4  Sometimes I get mad over something so minuscul...   anger"
      ]
     },
     "execution_count": 4,
     "metadata": {},
     "output_type": "execute_result"
    }
   ],
   "source": [
    "corpus.head()"
   ]
  },
  {
   "cell_type": "code",
   "execution_count": 5,
   "id": "a14deaa6",
   "metadata": {},
   "outputs": [
    {
     "data": {
      "text/html": [
       "<div>\n",
       "<style scoped>\n",
       "    .dataframe tbody tr th:only-of-type {\n",
       "        vertical-align: middle;\n",
       "    }\n",
       "\n",
       "    .dataframe tbody tr th {\n",
       "        vertical-align: top;\n",
       "    }\n",
       "\n",
       "    .dataframe thead th {\n",
       "        text-align: right;\n",
       "    }\n",
       "</style>\n",
       "<table border=\"1\" class=\"dataframe\">\n",
       "  <thead>\n",
       "    <tr style=\"text-align: right;\">\n",
       "      <th></th>\n",
       "      <th>Tweet</th>\n",
       "      <th>Emotion</th>\n",
       "    </tr>\n",
       "  </thead>\n",
       "  <tbody>\n",
       "    <tr>\n",
       "      <th>0</th>\n",
       "      <td>At the point today where if someone says somet...</td>\n",
       "      <td>?</td>\n",
       "    </tr>\n",
       "    <tr>\n",
       "      <th>1</th>\n",
       "      <td>@CorningFootball  IT'S GAME DAY!!!!      T MIN...</td>\n",
       "      <td>?</td>\n",
       "    </tr>\n",
       "    <tr>\n",
       "      <th>2</th>\n",
       "      <td>This game has pissed me off more than any othe...</td>\n",
       "      <td>?</td>\n",
       "    </tr>\n",
       "    <tr>\n",
       "      <th>3</th>\n",
       "      <td>@spamvicious I've just found out it's Candice ...</td>\n",
       "      <td>?</td>\n",
       "    </tr>\n",
       "    <tr>\n",
       "      <th>4</th>\n",
       "      <td>@moocowward @mrsajhargreaves @Melly77 @GaryBar...</td>\n",
       "      <td>?</td>\n",
       "    </tr>\n",
       "  </tbody>\n",
       "</table>\n",
       "</div>"
      ],
      "text/plain": [
       "                                               Tweet Emotion\n",
       "0  At the point today where if someone says somet...       ?\n",
       "1  @CorningFootball  IT'S GAME DAY!!!!      T MIN...       ?\n",
       "2  This game has pissed me off more than any othe...       ?\n",
       "3  @spamvicious I've just found out it's Candice ...       ?\n",
       "4  @moocowward @mrsajhargreaves @Melly77 @GaryBar...       ?"
      ]
     },
     "execution_count": 5,
     "metadata": {},
     "output_type": "execute_result"
    }
   ],
   "source": [
    "corpus_test.head()"
   ]
  },
  {
   "cell_type": "code",
   "execution_count": 6,
   "id": "3e50e2fd",
   "metadata": {},
   "outputs": [
    {
     "name": "stdout",
     "output_type": "stream",
     "text": [
      "<class 'pandas.core.frame.DataFrame'>\n",
      "RangeIndex: 347 entries, 0 to 346\n",
      "Data columns (total 2 columns):\n",
      " #   Column   Non-Null Count  Dtype \n",
      "---  ------   --------------  ----- \n",
      " 0   Tweet    347 non-null    object\n",
      " 1   Emotion  347 non-null    object\n",
      "dtypes: object(2)\n",
      "memory usage: 5.5+ KB\n"
     ]
    }
   ],
   "source": [
    "corpus.info()"
   ]
  },
  {
   "cell_type": "code",
   "execution_count": 7,
   "id": "964ad762",
   "metadata": {},
   "outputs": [
    {
     "name": "stdout",
     "output_type": "stream",
     "text": [
      "<class 'pandas.core.frame.DataFrame'>\n",
      "RangeIndex: 3142 entries, 0 to 3141\n",
      "Data columns (total 2 columns):\n",
      " #   Column   Non-Null Count  Dtype \n",
      "---  ------   --------------  ----- \n",
      " 0   Tweet    3142 non-null   object\n",
      " 1   Emotion  3142 non-null   object\n",
      "dtypes: object(2)\n",
      "memory usage: 49.2+ KB\n"
     ]
    }
   ],
   "source": [
    "corpus_test.info()"
   ]
  },
  {
   "cell_type": "markdown",
   "id": "4f4d921f",
   "metadata": {},
   "source": [
    "**No null values are present. Fill NA not necessary**"
   ]
  },
  {
   "cell_type": "code",
   "execution_count": 8,
   "id": "c457fcfa",
   "metadata": {},
   "outputs": [
    {
     "data": {
      "text/plain": [
       "fear       110\n",
       "anger       84\n",
       "joy         79\n",
       "sadness     74\n",
       "Name: Emotion, dtype: int64"
      ]
     },
     "execution_count": 8,
     "metadata": {},
     "output_type": "execute_result"
    }
   ],
   "source": [
    "corpus['Emotion'].value_counts()"
   ]
  },
  {
   "cell_type": "code",
   "execution_count": 9,
   "id": "6d827624",
   "metadata": {},
   "outputs": [
    {
     "data": {
      "text/plain": [
       "<AxesSubplot:>"
      ]
     },
     "execution_count": 9,
     "metadata": {},
     "output_type": "execute_result"
    },
    {
     "data": {
      "image/png": "[encoded data removed]",
      "text/plain": [
       "<Figure size 640x480 with 1 Axes>"
      ]
     },
     "metadata": {},
     "output_type": "display_data"
    }
   ],
   "source": [
    "# visualizing label counts \n",
    "corpus['Emotion'].value_counts().plot(kind='bar', rot=360)"
   ]
  },
  {
   "cell_type": "markdown",
   "id": "317486a5",
   "metadata": {},
   "source": [
    "**The labels seem to be unbalanced, with 'fear' as the most frequent label** <br> \n",
    "Random oversampling will be completed to balance the datasets by randomly resampling with replacement tweets with categories 'anger', 'joy', and 'sadness' counts will be equal to the majority (fear) each having a frequency of 110"
   ]
  },
  {
   "cell_type": "markdown",
   "id": "b0571660",
   "metadata": {},
   "source": [
    "### Separating features and labels "
   ]
  },
  {
   "cell_type": "code",
   "execution_count": 10,
   "id": "01ac07b9",
   "metadata": {},
   "outputs": [
    {
     "name": "stdout",
     "output_type": "stream",
     "text": [
      "347\n",
      "347\n"
     ]
    }
   ],
   "source": [
    "X = list(corpus['Tweet'])\n",
    "y = corpus['Emotion']\n",
    "\n",
    "print(len(X))\n",
    "print(len(y))"
   ]
  },
  {
   "cell_type": "markdown",
   "id": "e0a0cf8d",
   "metadata": {},
   "source": [
    "### Creating custom text normalizer "
   ]
  },
  {
   "cell_type": "markdown",
   "id": "682de8c5",
   "metadata": {},
   "source": [
    "https://medium.com/analytics-vidhya/nlp-tutorial-for-text-classification-in-python-8f19cd17b49e\n"
   ]
  },
  {
   "cell_type": "code",
   "execution_count": 11,
   "id": "cf2b3393",
   "metadata": {},
   "outputs": [],
   "source": [
    "class TextNormalizer(BaseEstimator, TransformerMixin): \n",
    "    \n",
    "    def __init__(self): \n",
    "        self.stopwords =set(stopwords.words('english')) \n",
    "        self.lemm=WordNetLemmatizer()\n",
    "    \n",
    "    def lower(self, document): \n",
    "        lower = document.lower()\n",
    "        return lower\n",
    "    \n",
    "    def remove_url(self, document): \n",
    "        p1 = r\"http\\S+\"\n",
    "        rem_url = re.sub(p1, \"\", self.lower(document)) #matches text from string that contains 'http' and one or more occurances of any non-whitespace characters \n",
    "        return rem_url\n",
    "    \n",
    "    def remove_handle(self, document):\n",
    "        p3 = r\"@\\S+\"\n",
    "        rem_handle = re.sub(p3, \"\", self.remove_url(document))\n",
    "        return rem_handle\n",
    "    \n",
    "    def remove_punct(self, document): \n",
    "        p2 = r\"[^\\w\\s]|\\d|_\" # matches text from string that does not contain a word or a whitespace character\n",
    "        rem_punc = re.sub(p2, \"\", self.remove_handle(document))\n",
    "        return rem_punc\n",
    "    \n",
    "    def remove_non_english(self, document):\n",
    "    \n",
    "        '''\n",
    "        uses ascii characters to encode the string (ascii --> digits, upper & lower case english letters, special characters)\n",
    "        if a character can't be encoded, it will be ignored, in this case removed\n",
    "        when a character is encoded, it converts a string to a byte \n",
    "        to convert back to a string decode() is called \n",
    "        '''\n",
    "\n",
    "        eng_text = self.remove_punct(document).encode(\"ascii\", errors=\"ignore\").decode()\n",
    "\n",
    "        return eng_text\n",
    "    \n",
    "    def stopword_rem(self, document): \n",
    "        tokens = word_tokenize(self.remove_non_english(document))\n",
    "        stop_rem = [w for w in tokens if w not in self.stopwords]\n",
    "        return stop_rem\n",
    "    \n",
    "    def rem_one_word(self, document): \n",
    "        one_word = [w for w in self.stopword_rem(document) if len(w) > 2]\n",
    "        return one_word\n",
    "    \n",
    "    def get_word_pos(self, word):\n",
    "        tag=nltk.pos_tag([word])[0][1][0].upper()\n",
    "        tag_dict={\"J\":wordnet.ADJ,\n",
    "                 \"N\":wordnet.NOUN,\n",
    "                 \"V\":wordnet.VERB,\n",
    "                 \"R\":wordnet.ADV}\n",
    "        return tag_dict.get(tag, wordnet.NOUN)\n",
    "        \n",
    "    \n",
    "    def lemmatizer(self,document):\n",
    "        lemma_lst=[self.lemm.lemmatize(w, self.get_word_pos(w)) for w in self.rem_one_word(document)]\n",
    "        #lemma_lst=[self.lemm.lemmatize(w) for w in self.rem_one_word(document)]\n",
    "        return \" \".join(lemma_lst)\n",
    "    \n",
    "    def fit(self, X, y=None):\n",
    "        return self\n",
    "\n",
    "    def transform(self, documents):\n",
    "        for document in documents:\n",
    "            yield self.lemmatizer(document)\n",
    "    \n",
    "\n",
    "\n",
    "        "
   ]
  },
  {
   "cell_type": "markdown",
   "id": "a8caa825",
   "metadata": {},
   "source": [
    "### Code To Visualize the Normalized Text in a DF "
   ]
  },
  {
   "cell_type": "code",
   "execution_count": 12,
   "id": "fca98e55",
   "metadata": {},
   "outputs": [],
   "source": [
    "preprocess_pipe = Pipeline(steps = [ \n",
    "                            ('norm', TextNormalizer())])\n"
   ]
  },
  {
   "cell_type": "code",
   "execution_count": 13,
   "id": "8b81931b",
   "metadata": {},
   "outputs": [
    {
     "data": {
      "text/plain": [
       "Pipeline(steps=[('norm', TextNormalizer())])"
      ]
     },
     "execution_count": 13,
     "metadata": {},
     "output_type": "execute_result"
    }
   ],
   "source": [
    "preprocess_pipe.fit(X)"
   ]
  },
  {
   "cell_type": "code",
   "execution_count": 14,
   "id": "842ed260",
   "metadata": {},
   "outputs": [],
   "source": [
    "x = preprocess_pipe.transform(X)"
   ]
  },
  {
   "cell_type": "code",
   "execution_count": 15,
   "id": "b41eaa1a",
   "metadata": {},
   "outputs": [
    {
     "data": {
      "text/html": [
       "<div>\n",
       "<style scoped>\n",
       "    .dataframe tbody tr th:only-of-type {\n",
       "        vertical-align: middle;\n",
       "    }\n",
       "\n",
       "    .dataframe tbody tr th {\n",
       "        vertical-align: top;\n",
       "    }\n",
       "\n",
       "    .dataframe thead th {\n",
       "        text-align: right;\n",
       "    }\n",
       "</style>\n",
       "<table border=\"1\" class=\"dataframe\">\n",
       "  <thead>\n",
       "    <tr style=\"text-align: right;\">\n",
       "      <th></th>\n",
       "      <th>0</th>\n",
       "    </tr>\n",
       "  </thead>\n",
       "  <tbody>\n",
       "    <tr>\n",
       "      <th>0</th>\n",
       "      <td>pls dont insult word molna</td>\n",
       "    </tr>\n",
       "    <tr>\n",
       "      <th>1</th>\n",
       "      <td>would almost take offense actually snap</td>\n",
       "    </tr>\n",
       "    <tr>\n",
       "      <th>2</th>\n",
       "      <td>rutgers game abomination affront god man must ...</td>\n",
       "    </tr>\n",
       "    <tr>\n",
       "      <th>3</th>\n",
       "      <td>thats lisa ask start rag call heh</td>\n",
       "    </tr>\n",
       "    <tr>\n",
       "      <th>4</th>\n",
       "      <td>sometimes get mad something minuscule try ruin...</td>\n",
       "    </tr>\n",
       "    <tr>\n",
       "      <th>...</th>\n",
       "      <td>...</td>\n",
       "    </tr>\n",
       "    <tr>\n",
       "      <th>342</th>\n",
       "      <td>common app randomly log write last part colleg...</td>\n",
       "    </tr>\n",
       "    <tr>\n",
       "      <th>343</th>\n",
       "      <td>rather laugh rarest genius beautiful alliance ...</td>\n",
       "    </tr>\n",
       "    <tr>\n",
       "      <th>344</th>\n",
       "      <td>invest new film stop ask invest new film conce...</td>\n",
       "    </tr>\n",
       "    <tr>\n",
       "      <th>345</th>\n",
       "      <td>watch django unchained people may frown titter...</td>\n",
       "    </tr>\n",
       "    <tr>\n",
       "      <th>346</th>\n",
       "      <td>depress despicable trump policy campaign bigot...</td>\n",
       "    </tr>\n",
       "  </tbody>\n",
       "</table>\n",
       "<p>347 rows × 1 columns</p>\n",
       "</div>"
      ],
      "text/plain": [
       "                                                     0\n",
       "0                           pls dont insult word molna\n",
       "1              would almost take offense actually snap\n",
       "2    rutgers game abomination affront god man must ...\n",
       "3                    thats lisa ask start rag call heh\n",
       "4    sometimes get mad something minuscule try ruin...\n",
       "..                                                 ...\n",
       "342  common app randomly log write last part colleg...\n",
       "343  rather laugh rarest genius beautiful alliance ...\n",
       "344  invest new film stop ask invest new film conce...\n",
       "345  watch django unchained people may frown titter...\n",
       "346  depress despicable trump policy campaign bigot...\n",
       "\n",
       "[347 rows x 1 columns]"
      ]
     },
     "execution_count": 15,
     "metadata": {},
     "output_type": "execute_result"
    }
   ],
   "source": [
    "X = list(x)\n",
    "normalized_df = pd.DataFrame(X)\n",
    "normalized_df"
   ]
  },
  {
   "cell_type": "markdown",
   "id": "bdf28742",
   "metadata": {},
   "source": [
    "**Splitting data into train and test sets**"
   ]
  },
  {
   "cell_type": "code",
   "execution_count": 16,
   "id": "bc11f711",
   "metadata": {},
   "outputs": [
    {
     "name": "stdout",
     "output_type": "stream",
     "text": [
      "277\n",
      "277\n",
      "70\n",
      "70\n"
     ]
    }
   ],
   "source": [
    "X_train, X_test, y_train, y_test = train_test_split(X, y, test_size=0.2)\n",
    "\n",
    "print(len(X_train))\n",
    "print(len(y_train))\n",
    "print(len(X_test))\n",
    "print(len(y_test))"
   ]
  },
  {
   "cell_type": "markdown",
   "id": "17d0a37e",
   "metadata": {},
   "source": [
    "### Creating the Preprocessing Pipeline"
   ]
  },
  {
   "cell_type": "code",
   "execution_count": 17,
   "id": "a4687666",
   "metadata": {},
   "outputs": [],
   "source": [
    "pre_processing_pipe = Pipeline([\n",
    "    ('norm', TextNormalizer()),\n",
    "    ('vec', TfidfVectorizer())])\n",
    "\n",
    "X_train = pre_processing_pipe.fit_transform(X_train)"
   ]
  },
  {
   "cell_type": "code",
   "execution_count": 18,
   "id": "a97fa796",
   "metadata": {},
   "outputs": [
    {
     "data": {
      "text/plain": [
       "<277x1307 sparse matrix of type '<class 'numpy.float64'>'\n",
       "\twith 2340 stored elements in Compressed Sparse Row format>"
      ]
     },
     "execution_count": 18,
     "metadata": {},
     "output_type": "execute_result"
    }
   ],
   "source": [
    "X_train"
   ]
  },
  {
   "cell_type": "markdown",
   "id": "8616e118",
   "metadata": {},
   "source": [
    "### Niave Bayes Multinomial Classifier \n",
    "\n",
    "Best for discrete vector feature inputs like value counts, but tf-idf factor counts may also work"
   ]
  },
  {
   "cell_type": "code",
   "execution_count": 19,
   "id": "03c1a255",
   "metadata": {},
   "outputs": [
    {
     "data": {
      "text/plain": [
       "MultinomialNB()"
      ]
     },
     "execution_count": 19,
     "metadata": {},
     "output_type": "execute_result"
    }
   ],
   "source": [
    "from sklearn.naive_bayes import MultinomialNB\n",
    "\n",
    "clf1 = MultinomialNB()\n",
    "clf1.fit(X_train, y_train)"
   ]
  },
  {
   "cell_type": "markdown",
   "id": "902bf300",
   "metadata": {},
   "source": [
    "**Evaluating Model**\n",
    "\n",
    "1. Confusion Maxtrix"
   ]
  },
  {
   "cell_type": "code",
   "execution_count": 20,
   "id": "c4dbb281",
   "metadata": {},
   "outputs": [
    {
     "data": {
      "text/plain": [
       "array([[27, 39,  1,  1],\n",
       "       [ 2, 91,  0,  1],\n",
       "       [ 4, 33, 22,  1],\n",
       "       [10, 31,  0, 14]])"
      ]
     },
     "execution_count": 20,
     "metadata": {},
     "output_type": "execute_result"
    }
   ],
   "source": [
    "yhat1 = cross_val_predict(clf1, X_train, y_train, cv=10)\n",
    "confusion_matrix(y_train, yhat1)"
   ]
  },
  {
   "cell_type": "code",
   "execution_count": 21,
   "id": "8616ecd2",
   "metadata": {},
   "outputs": [
    {
     "name": "stdout",
     "output_type": "stream",
     "text": [
      "              precision    recall  f1-score   support\n",
      "\n",
      "       anger       0.63      0.40      0.49        68\n",
      "        fear       0.47      0.97      0.63        94\n",
      "         joy       0.96      0.37      0.53        60\n",
      "     sadness       0.82      0.25      0.39        55\n",
      "\n",
      "    accuracy                           0.56       277\n",
      "   macro avg       0.72      0.50      0.51       277\n",
      "weighted avg       0.68      0.56      0.53       277\n",
      "\n"
     ]
    }
   ],
   "source": [
    "print(classification_report(y_train, yhat1))"
   ]
  },
  {
   "cell_type": "markdown",
   "id": "be724578",
   "metadata": {},
   "source": [
    "### SGD Classifier"
   ]
  },
  {
   "cell_type": "code",
   "execution_count": 22,
   "id": "57ed60aa",
   "metadata": {},
   "outputs": [
    {
     "data": {
      "text/plain": [
       "SGDClassifier()"
      ]
     },
     "execution_count": 22,
     "metadata": {},
     "output_type": "execute_result"
    }
   ],
   "source": [
    "from sklearn.linear_model import SGDClassifier\n",
    "\n",
    "clf2 = SGDClassifier()\n",
    "clf2.fit(X_train, y_train)"
   ]
  },
  {
   "cell_type": "markdown",
   "id": "40843bd4",
   "metadata": {},
   "source": [
    "**Evaluating Model**"
   ]
  },
  {
   "cell_type": "code",
   "execution_count": 23,
   "id": "31ed1f48",
   "metadata": {},
   "outputs": [
    {
     "data": {
      "text/plain": [
       "array([[44, 14,  2,  8],\n",
       "       [ 6, 79,  3,  6],\n",
       "       [ 7, 10, 39,  4],\n",
       "       [11, 10,  2, 32]])"
      ]
     },
     "execution_count": 23,
     "metadata": {},
     "output_type": "execute_result"
    }
   ],
   "source": [
    "yhat2 = cross_val_predict(clf2, X_train, y_train, cv=10)\n",
    "confusion_matrix(y_train, yhat2)"
   ]
  },
  {
   "cell_type": "code",
   "execution_count": 24,
   "id": "fd4d5135",
   "metadata": {},
   "outputs": [
    {
     "name": "stdout",
     "output_type": "stream",
     "text": [
      "              precision    recall  f1-score   support\n",
      "\n",
      "       anger       0.65      0.65      0.65        68\n",
      "        fear       0.70      0.84      0.76        94\n",
      "         joy       0.85      0.65      0.74        60\n",
      "     sadness       0.64      0.58      0.61        55\n",
      "\n",
      "    accuracy                           0.70       277\n",
      "   macro avg       0.71      0.68      0.69       277\n",
      "weighted avg       0.71      0.70      0.70       277\n",
      "\n"
     ]
    }
   ],
   "source": [
    "print(classification_report(y_train, yhat2))"
   ]
  },
  {
   "cell_type": "markdown",
   "id": "5268012f",
   "metadata": {},
   "source": [
    "### SVC Classifier"
   ]
  },
  {
   "cell_type": "code",
   "execution_count": 25,
   "id": "07466994",
   "metadata": {},
   "outputs": [
    {
     "data": {
      "text/plain": [
       "SVC()"
      ]
     },
     "execution_count": 25,
     "metadata": {},
     "output_type": "execute_result"
    }
   ],
   "source": [
    "from sklearn.svm import SVC\n",
    "\n",
    "clf3 = SVC()\n",
    "clf3.fit(X_train, y_train)"
   ]
  },
  {
   "cell_type": "markdown",
   "id": "a388cf74",
   "metadata": {},
   "source": [
    "**Evaluating Model**"
   ]
  },
  {
   "cell_type": "code",
   "execution_count": 26,
   "id": "64bd80ab",
   "metadata": {},
   "outputs": [
    {
     "data": {
      "text/plain": [
       "array([[12, 55,  0,  1],\n",
       "       [ 2, 91,  0,  1],\n",
       "       [ 0, 53,  7,  0],\n",
       "       [ 1, 48,  0,  6]])"
      ]
     },
     "execution_count": 26,
     "metadata": {},
     "output_type": "execute_result"
    }
   ],
   "source": [
    "yhat3 = cross_val_predict(clf3, X_train, y_train, cv=10)\n",
    "confusion_matrix(y_train, yhat3)"
   ]
  },
  {
   "cell_type": "code",
   "execution_count": 27,
   "id": "b2198efe",
   "metadata": {},
   "outputs": [
    {
     "name": "stdout",
     "output_type": "stream",
     "text": [
      "              precision    recall  f1-score   support\n",
      "\n",
      "       anger       0.80      0.18      0.29        68\n",
      "        fear       0.37      0.97      0.53        94\n",
      "         joy       1.00      0.12      0.21        60\n",
      "     sadness       0.75      0.11      0.19        55\n",
      "\n",
      "    accuracy                           0.42       277\n",
      "   macro avg       0.73      0.34      0.31       277\n",
      "weighted avg       0.69      0.42      0.34       277\n",
      "\n"
     ]
    }
   ],
   "source": [
    "print(classification_report(y_train, yhat3))"
   ]
  },
  {
   "cell_type": "markdown",
   "id": "51323a16",
   "metadata": {},
   "source": [
    "### Decision Tree Classifier"
   ]
  },
  {
   "cell_type": "code",
   "execution_count": 28,
   "id": "d6cf856f",
   "metadata": {},
   "outputs": [
    {
     "data": {
      "text/plain": [
       "DecisionTreeClassifier()"
      ]
     },
     "execution_count": 28,
     "metadata": {},
     "output_type": "execute_result"
    }
   ],
   "source": [
    "from sklearn.tree import DecisionTreeClassifier\n",
    "\n",
    "clf4 = DecisionTreeClassifier()\n",
    "clf4.fit(X_train, y_train)"
   ]
  },
  {
   "cell_type": "markdown",
   "id": "fa41a45c",
   "metadata": {},
   "source": [
    "**Evaluating Model**"
   ]
  },
  {
   "cell_type": "code",
   "execution_count": 29,
   "id": "55569e18",
   "metadata": {},
   "outputs": [
    {
     "data": {
      "text/plain": [
       "array([[27, 35,  3,  3],\n",
       "       [13, 72,  8,  1],\n",
       "       [ 6, 23, 29,  2],\n",
       "       [ 3, 27,  2, 23]])"
      ]
     },
     "execution_count": 29,
     "metadata": {},
     "output_type": "execute_result"
    }
   ],
   "source": [
    "yhat4 = cross_val_predict(clf4, X_train, y_train, cv=10)\n",
    "confusion_matrix(y_train, yhat4)"
   ]
  },
  {
   "cell_type": "code",
   "execution_count": 30,
   "id": "968b8b74",
   "metadata": {},
   "outputs": [
    {
     "name": "stdout",
     "output_type": "stream",
     "text": [
      "              precision    recall  f1-score   support\n",
      "\n",
      "       anger       0.55      0.40      0.46        68\n",
      "        fear       0.46      0.77      0.57        94\n",
      "         joy       0.69      0.48      0.57        60\n",
      "     sadness       0.79      0.42      0.55        55\n",
      "\n",
      "    accuracy                           0.55       277\n",
      "   macro avg       0.62      0.52      0.54       277\n",
      "weighted avg       0.60      0.55      0.54       277\n",
      "\n"
     ]
    }
   ],
   "source": [
    "print(classification_report(y_train, yhat4))"
   ]
  },
  {
   "cell_type": "markdown",
   "id": "61e83a0f",
   "metadata": {},
   "source": [
    "**The unbalanced dataset did not perform well for all cross-validated models.  Let's try oversampling to yeild better classification evaluations**"
   ]
  },
  {
   "cell_type": "markdown",
   "id": "d237e05a",
   "metadata": {},
   "source": [
    "### Training Models with Balanced Dataset "
   ]
  },
  {
   "cell_type": "code",
   "execution_count": 31,
   "id": "44e06d63",
   "metadata": {},
   "outputs": [],
   "source": [
    "X = pre_processing_pipe.fit_transform(X)"
   ]
  },
  {
   "cell_type": "code",
   "execution_count": 32,
   "id": "508a18bc",
   "metadata": {},
   "outputs": [
    {
     "data": {
      "text/plain": [
       "<347x1480 sparse matrix of type '<class 'numpy.float64'>'\n",
       "\twith 2877 stored elements in Compressed Sparse Row format>"
      ]
     },
     "execution_count": 32,
     "metadata": {},
     "output_type": "execute_result"
    }
   ],
   "source": [
    "X"
   ]
  },
  {
   "cell_type": "code",
   "execution_count": 33,
   "id": "6de75070",
   "metadata": {},
   "outputs": [],
   "source": [
    "ros = RandomOverSampler(sampling_strategy='not majority')\n",
    "X, y = ros.fit_resample(X, y)"
   ]
  },
  {
   "cell_type": "code",
   "execution_count": 34,
   "id": "26d5e5fc",
   "metadata": {},
   "outputs": [
    {
     "data": {
      "text/plain": [
       "anger      110\n",
       "fear       110\n",
       "joy        110\n",
       "sadness    110\n",
       "Name: Emotion, dtype: int64"
      ]
     },
     "execution_count": 34,
     "metadata": {},
     "output_type": "execute_result"
    }
   ],
   "source": [
    "y.value_counts()"
   ]
  },
  {
   "cell_type": "code",
   "execution_count": 35,
   "id": "8c1617b0",
   "metadata": {},
   "outputs": [
    {
     "name": "stdout",
     "output_type": "stream",
     "text": [
      "440\n",
      "440\n"
     ]
    }
   ],
   "source": [
    "print(X.shape[0])\n",
    "print(len(y))\n"
   ]
  },
  {
   "cell_type": "code",
   "execution_count": 36,
   "id": "7e8d942b",
   "metadata": {},
   "outputs": [
    {
     "name": "stdout",
     "output_type": "stream",
     "text": [
      "352\n",
      "352\n",
      "88\n",
      "88\n"
     ]
    }
   ],
   "source": [
    "X_train, X_test, y_train, y_test = train_test_split(X, y, test_size=0.2)\n",
    "\n",
    "print((X_train).shape[0])\n",
    "print(len(y_train))\n",
    "print((X_test).shape[0])\n",
    "print(len(y_test))"
   ]
  },
  {
   "cell_type": "code",
   "execution_count": 37,
   "id": "238f08b9",
   "metadata": {},
   "outputs": [
    {
     "name": "stdout",
     "output_type": "stream",
     "text": [
      "MultinomialNB() \n",
      "\n",
      "Evaluating model MultinomialNB()\n",
      "[[70  3  1 11]\n",
      " [ 5 41 15 21]\n",
      " [ 6  3 66 11]\n",
      " [ 7  2  3 87]]\n",
      "              precision    recall  f1-score   support\n",
      "\n",
      "       anger       0.80      0.82      0.81        85\n",
      "        fear       0.84      0.50      0.63        82\n",
      "         joy       0.78      0.77      0.77        86\n",
      "     sadness       0.67      0.88      0.76        99\n",
      "\n",
      "    accuracy                           0.75       352\n",
      "   macro avg       0.77      0.74      0.74       352\n",
      "weighted avg       0.76      0.75      0.74       352\n",
      "\n",
      "SGDClassifier() \n",
      "\n",
      "Evaluating model SGDClassifier()\n",
      "[[67  9  1  8]\n",
      " [ 7 52  9 14]\n",
      " [ 5  7 68  6]\n",
      " [ 8  5  2 84]]\n",
      "              precision    recall  f1-score   support\n",
      "\n",
      "       anger       0.77      0.79      0.78        85\n",
      "        fear       0.71      0.63      0.67        82\n",
      "         joy       0.85      0.79      0.82        86\n",
      "     sadness       0.75      0.85      0.80        99\n",
      "\n",
      "    accuracy                           0.77       352\n",
      "   macro avg       0.77      0.77      0.77       352\n",
      "weighted avg       0.77      0.77      0.77       352\n",
      "\n",
      "SVC() \n",
      "\n",
      "Evaluating model SVC()\n",
      "[[58 18  0  9]\n",
      " [ 2 69  2  9]\n",
      " [ 2 19 58  7]\n",
      " [ 3 14  0 82]]\n",
      "              precision    recall  f1-score   support\n",
      "\n",
      "       anger       0.89      0.68      0.77        85\n",
      "        fear       0.57      0.84      0.68        82\n",
      "         joy       0.97      0.67      0.79        86\n",
      "     sadness       0.77      0.83      0.80        99\n",
      "\n",
      "    accuracy                           0.76       352\n",
      "   macro avg       0.80      0.76      0.76       352\n",
      "weighted avg       0.80      0.76      0.76       352\n",
      "\n",
      "DecisionTreeClassifier() \n",
      "\n",
      "Evaluating model DecisionTreeClassifier()\n",
      "[[49 25  3  8]\n",
      " [ 4 64  7  7]\n",
      " [ 4 23 56  3]\n",
      " [ 7 21  4 67]]\n",
      "              precision    recall  f1-score   support\n",
      "\n",
      "       anger       0.77      0.58      0.66        85\n",
      "        fear       0.48      0.78      0.60        82\n",
      "         joy       0.80      0.65      0.72        86\n",
      "     sadness       0.79      0.68      0.73        99\n",
      "\n",
      "    accuracy                           0.67       352\n",
      "   macro avg       0.71      0.67      0.67       352\n",
      "weighted avg       0.71      0.67      0.68       352\n",
      "\n"
     ]
    }
   ],
   "source": [
    "models = [clf1, clf2, clf3, clf4]\n",
    "for m in models:\n",
    "    print(m, \"\\n\")\n",
    "    clf = m.fit(X_train, y_train)\n",
    "    print(\"Evaluating model {m}\".format(m=m))\n",
    "    yhat = cross_val_predict(clf, X_train, y_train, cv=10)\n",
    "    print(confusion_matrix(y_train, yhat))\n",
    "    print(classification_report(y_train, yhat)) "
   ]
  },
  {
   "cell_type": "markdown",
   "id": "c963115c",
   "metadata": {},
   "source": [
    "**Based on the cross-validated scores for all 4 models, SGD Classifier performed the best.  This will be the model that will be used on the testing data** "
   ]
  },
  {
   "cell_type": "markdown",
   "id": "2a94ca43",
   "metadata": {},
   "source": [
    "### Non-cross-validated Predictions for SGD Model "
   ]
  },
  {
   "cell_type": "code",
   "execution_count": 38,
   "id": "30783682",
   "metadata": {},
   "outputs": [],
   "source": [
    "yhat = clf2.predict(X_train)"
   ]
  },
  {
   "cell_type": "code",
   "execution_count": 39,
   "id": "78ff1dc7",
   "metadata": {},
   "outputs": [
    {
     "data": {
      "text/plain": [
       "array([[82,  0,  0,  3],\n",
       "       [ 0, 81,  0,  1],\n",
       "       [ 0,  0, 86,  0],\n",
       "       [ 0,  0,  0, 99]])"
      ]
     },
     "execution_count": 39,
     "metadata": {},
     "output_type": "execute_result"
    }
   ],
   "source": [
    "confusion_matrix(y_train, yhat)"
   ]
  },
  {
   "cell_type": "code",
   "execution_count": 40,
   "id": "cba4fd9b",
   "metadata": {},
   "outputs": [
    {
     "name": "stdout",
     "output_type": "stream",
     "text": [
      "              precision    recall  f1-score   support\n",
      "\n",
      "       anger       1.00      0.96      0.98        85\n",
      "        fear       1.00      0.99      0.99        82\n",
      "         joy       1.00      1.00      1.00        86\n",
      "     sadness       0.96      1.00      0.98        99\n",
      "\n",
      "    accuracy                           0.99       352\n",
      "   macro avg       0.99      0.99      0.99       352\n",
      "weighted avg       0.99      0.99      0.99       352\n",
      "\n"
     ]
    }
   ],
   "source": [
    "print(classification_report(y_train, yhat))"
   ]
  },
  {
   "cell_type": "markdown",
   "id": "e6159d7f",
   "metadata": {},
   "source": [
    "### Predicting Values on Test Set Using SGD Classifier "
   ]
  },
  {
   "cell_type": "code",
   "execution_count": 41,
   "id": "c28ad17f",
   "metadata": {},
   "outputs": [],
   "source": [
    "yhat_test = clf2.predict(X_test)"
   ]
  },
  {
   "cell_type": "code",
   "execution_count": 42,
   "id": "e4da40b7",
   "metadata": {},
   "outputs": [
    {
     "name": "stdout",
     "output_type": "stream",
     "text": [
      "              precision    recall  f1-score   support\n",
      "\n",
      "       anger       0.90      0.76      0.83        25\n",
      "        fear       0.77      0.82      0.79        28\n",
      "         joy       0.86      0.75      0.80        24\n",
      "     sadness       0.50      0.73      0.59        11\n",
      "\n",
      "    accuracy                           0.77        88\n",
      "   macro avg       0.76      0.76      0.75        88\n",
      "weighted avg       0.80      0.77      0.78        88\n",
      "\n"
     ]
    }
   ],
   "source": [
    "print(classification_report(y_test, yhat_test))"
   ]
  },
  {
   "cell_type": "markdown",
   "id": "16dd82e4",
   "metadata": {},
   "source": [
    "**It seems that the SGD classifier overfit the train data.  This is evident when obeserving the classification report for the testing data, the accuracy decreased when passing the unseen testing data to the model.  Let's see if BERT word embeddings which takes context into account would yeild better testing evaluations**"
   ]
  },
  {
   "cell_type": "markdown",
   "id": "df77f74b",
   "metadata": {},
   "source": [
    "## BERT Word Embedding Method \n"
   ]
  },
  {
   "cell_type": "code",
   "execution_count": 43,
   "id": "f50a9e57",
   "metadata": {},
   "outputs": [],
   "source": [
    "X = list(corpus['Tweet'])\n",
    "y = corpus['Emotion']"
   ]
  },
  {
   "cell_type": "code",
   "execution_count": 44,
   "id": "bc0668b2",
   "metadata": {},
   "outputs": [
    {
     "data": {
      "text/plain": [
       "Pipeline(steps=[('norm', TextNormalizer())])"
      ]
     },
     "execution_count": 44,
     "metadata": {},
     "output_type": "execute_result"
    }
   ],
   "source": [
    "preprocess_pipe.fit(X)"
   ]
  },
  {
   "cell_type": "code",
   "execution_count": 45,
   "id": "cdcb79b5",
   "metadata": {},
   "outputs": [],
   "source": [
    "x = preprocess_pipe.transform(X)"
   ]
  },
  {
   "cell_type": "code",
   "execution_count": 46,
   "id": "ee50ecdb",
   "metadata": {},
   "outputs": [],
   "source": [
    "X = list(x)"
   ]
  },
  {
   "cell_type": "code",
   "execution_count": 1,
   "id": "33ae173d",
   "metadata": {},
   "outputs": [],
   "source": [
    "from sentence_transformers import SentenceTransformer \n",
    "bert = SentenceTransformer('all-mpnet-base-v2')"
   ]
  },
  {
   "cell_type": "code",
   "execution_count": 47,
   "id": "3163da2d",
   "metadata": {},
   "outputs": [
    {
     "data": {
      "text/plain": [
       "numpy.ndarray"
      ]
     },
     "execution_count": 47,
     "metadata": {},
     "output_type": "execute_result"
    }
   ],
   "source": [
    "bert_vec = bert.encode(X)\n",
    "type(bert_vec)"
   ]
  },
  {
   "cell_type": "code",
   "execution_count": 48,
   "id": "efbe5b1d",
   "metadata": {},
   "outputs": [
    {
     "data": {
      "text/plain": [
       "(347, 768)"
      ]
     },
     "execution_count": 48,
     "metadata": {},
     "output_type": "execute_result"
    }
   ],
   "source": [
    "bert_vec.shape"
   ]
  },
  {
   "cell_type": "code",
   "execution_count": 49,
   "id": "c97414a8",
   "metadata": {},
   "outputs": [],
   "source": [
    "X = pd.DataFrame(bert_vec)"
   ]
  },
  {
   "cell_type": "code",
   "execution_count": 50,
   "id": "63de1385",
   "metadata": {},
   "outputs": [],
   "source": [
    "ros = RandomOverSampler(sampling_strategy='not majority')\n",
    "X, y = ros.fit_resample(X, y)"
   ]
  },
  {
   "cell_type": "code",
   "execution_count": 51,
   "id": "5b5782c6",
   "metadata": {},
   "outputs": [
    {
     "data": {
      "text/plain": [
       "anger      110\n",
       "fear       110\n",
       "joy        110\n",
       "sadness    110\n",
       "Name: Emotion, dtype: int64"
      ]
     },
     "execution_count": 51,
     "metadata": {},
     "output_type": "execute_result"
    }
   ],
   "source": [
    "y.value_counts()"
   ]
  },
  {
   "cell_type": "code",
   "execution_count": 52,
   "id": "bbb4e668",
   "metadata": {},
   "outputs": [
    {
     "name": "stdout",
     "output_type": "stream",
     "text": [
      "440\n",
      "440\n"
     ]
    }
   ],
   "source": [
    "print(X.shape[0])\n",
    "print(len(y))"
   ]
  },
  {
   "cell_type": "code",
   "execution_count": 53,
   "id": "9639219b",
   "metadata": {},
   "outputs": [
    {
     "name": "stdout",
     "output_type": "stream",
     "text": [
      "352\n",
      "352\n",
      "88\n",
      "88\n"
     ]
    }
   ],
   "source": [
    "X_train, X_test, y_train, y_test = train_test_split(X, y, test_size=0.2)\n",
    "\n",
    "print((X_train).shape[0])\n",
    "print(len(y_train))\n",
    "print((X_test).shape[0])\n",
    "print(len(y_test))"
   ]
  },
  {
   "cell_type": "code",
   "execution_count": 54,
   "id": "ea9c693e",
   "metadata": {},
   "outputs": [
    {
     "name": "stdout",
     "output_type": "stream",
     "text": [
      "SGDClassifier() \n",
      "\n",
      "Evaluating model SGDClassifier()\n",
      "[[59 11  6  9]\n",
      " [10 54  5 13]\n",
      " [ 4  5 80  5]\n",
      " [ 8 12  7 64]]\n",
      "              precision    recall  f1-score   support\n",
      "\n",
      "       anger       0.73      0.69      0.71        85\n",
      "        fear       0.66      0.66      0.66        82\n",
      "         joy       0.82      0.85      0.83        94\n",
      "     sadness       0.70      0.70      0.70        91\n",
      "\n",
      "    accuracy                           0.73       352\n",
      "   macro avg       0.73      0.73      0.73       352\n",
      "weighted avg       0.73      0.73      0.73       352\n",
      "\n",
      "SVC() \n",
      "\n",
      "Evaluating model SVC()\n",
      "[[63 10  5  7]\n",
      " [10 58  3 11]\n",
      " [ 5  5 78  6]\n",
      " [ 4 16  8 63]]\n",
      "              precision    recall  f1-score   support\n",
      "\n",
      "       anger       0.77      0.74      0.75        85\n",
      "        fear       0.65      0.71      0.68        82\n",
      "         joy       0.83      0.83      0.83        94\n",
      "     sadness       0.72      0.69      0.71        91\n",
      "\n",
      "    accuracy                           0.74       352\n",
      "   macro avg       0.74      0.74      0.74       352\n",
      "weighted avg       0.75      0.74      0.74       352\n",
      "\n",
      "DecisionTreeClassifier() \n",
      "\n",
      "Evaluating model DecisionTreeClassifier()\n",
      "[[45 19  7 14]\n",
      " [21 37 11 13]\n",
      " [ 9 10 65 10]\n",
      " [ 9 17 18 47]]\n",
      "              precision    recall  f1-score   support\n",
      "\n",
      "       anger       0.54      0.53      0.53        85\n",
      "        fear       0.45      0.45      0.45        82\n",
      "         joy       0.64      0.69      0.67        94\n",
      "     sadness       0.56      0.52      0.54        91\n",
      "\n",
      "    accuracy                           0.55       352\n",
      "   macro avg       0.55      0.55      0.55       352\n",
      "weighted avg       0.55      0.55      0.55       352\n",
      "\n"
     ]
    }
   ],
   "source": [
    "models = [clf2, clf3, clf4]\n",
    "for m in models:\n",
    "    print(m, \"\\n\")\n",
    "    clf = m.fit(X_train, y_train)\n",
    "    print(\"Evaluating model {m}\".format(m=m))\n",
    "    yhat = cross_val_predict(clf, X_train, y_train, cv=10)\n",
    "    print(confusion_matrix(y_train, yhat))\n",
    "    print(classification_report(y_train, yhat)) "
   ]
  },
  {
   "cell_type": "markdown",
   "id": "2518da84",
   "metadata": {},
   "source": [
    "**When using BERT context aware vectorization, the SVC model performs best, this will be the model that will be used on the test set**"
   ]
  },
  {
   "cell_type": "markdown",
   "id": "6e9ca59f",
   "metadata": {},
   "source": [
    "### Non-Cross Validation Predictions for SCV Classifier "
   ]
  },
  {
   "cell_type": "code",
   "execution_count": 55,
   "id": "fc647322",
   "metadata": {},
   "outputs": [],
   "source": [
    "yhat_bert = clf3.predict(X_train)"
   ]
  },
  {
   "cell_type": "code",
   "execution_count": 56,
   "id": "51ca5c87",
   "metadata": {},
   "outputs": [
    {
     "data": {
      "text/plain": [
       "0.9914772727272727"
      ]
     },
     "execution_count": 56,
     "metadata": {},
     "output_type": "execute_result"
    }
   ],
   "source": [
    "clf3.score(X_train, y_train)"
   ]
  },
  {
   "cell_type": "code",
   "execution_count": 57,
   "id": "5f151ac5",
   "metadata": {},
   "outputs": [
    {
     "name": "stdout",
     "output_type": "stream",
     "text": [
      "[[85  0  0  0]\n",
      " [ 0 82  0  0]\n",
      " [ 0  0 94  0]\n",
      " [ 1  2  0 88]]\n",
      "              precision    recall  f1-score   support\n",
      "\n",
      "       anger       0.99      1.00      0.99        85\n",
      "        fear       0.98      1.00      0.99        82\n",
      "         joy       1.00      1.00      1.00        94\n",
      "     sadness       1.00      0.97      0.98        91\n",
      "\n",
      "    accuracy                           0.99       352\n",
      "   macro avg       0.99      0.99      0.99       352\n",
      "weighted avg       0.99      0.99      0.99       352\n",
      "\n"
     ]
    }
   ],
   "source": [
    "print(confusion_matrix(y_train, yhat_bert))\n",
    "print(classification_report(y_train, yhat_bert))"
   ]
  },
  {
   "cell_type": "markdown",
   "id": "eb842fe8",
   "metadata": {},
   "source": [
    "### Predicting the Test Set "
   ]
  },
  {
   "cell_type": "code",
   "execution_count": 58,
   "id": "ad66775f",
   "metadata": {},
   "outputs": [],
   "source": [
    "yhat_bert_test = clf3.predict(X_test)"
   ]
  },
  {
   "cell_type": "code",
   "execution_count": 59,
   "id": "9afac1ae",
   "metadata": {},
   "outputs": [
    {
     "data": {
      "text/plain": [
       "0.875"
      ]
     },
     "execution_count": 59,
     "metadata": {},
     "output_type": "execute_result"
    }
   ],
   "source": [
    "clf3.score(X_test, y_test)"
   ]
  },
  {
   "cell_type": "code",
   "execution_count": 60,
   "id": "e6d309e2",
   "metadata": {},
   "outputs": [
    {
     "name": "stdout",
     "output_type": "stream",
     "text": [
      "[[21  0  0  4]\n",
      " [ 1 24  2  1]\n",
      " [ 0  1 15  0]\n",
      " [ 1  1  0 17]]\n",
      "              precision    recall  f1-score   support\n",
      "\n",
      "       anger       0.91      0.84      0.87        25\n",
      "        fear       0.92      0.86      0.89        28\n",
      "         joy       0.88      0.94      0.91        16\n",
      "     sadness       0.77      0.89      0.83        19\n",
      "\n",
      "    accuracy                           0.88        88\n",
      "   macro avg       0.87      0.88      0.88        88\n",
      "weighted avg       0.88      0.88      0.88        88\n",
      "\n"
     ]
    }
   ],
   "source": [
    "print(confusion_matrix(y_test, yhat_bert_test))\n",
    "print(classification_report(y_test, yhat_bert_test))"
   ]
  },
  {
   "cell_type": "markdown",
   "id": "c342b5c7",
   "metadata": {},
   "source": [
    "**Based on the above model evaluations, SVC with BERT vectorization techniques and SGD with tf-idf vectorization techniques produced similar evaluation results.  However, deploying a model to be used consistently for classification may require a more context-aware analysis.  Therefore, the SVC model with BERT vectorixation techniques will be used to classify the unlabelled dataset** "
   ]
  },
  {
   "cell_type": "code",
   "execution_count": 61,
   "id": "f8ca3f60",
   "metadata": {},
   "outputs": [
    {
     "data": {
      "text/plain": [
       "3142"
      ]
     },
     "execution_count": 61,
     "metadata": {},
     "output_type": "execute_result"
    }
   ],
   "source": [
    "unlabelled_tweets = list(corpus_test[\"Tweet\"])\n",
    "len(unlabelled_tweets)"
   ]
  },
  {
   "cell_type": "code",
   "execution_count": 63,
   "id": "3903b133",
   "metadata": {},
   "outputs": [
    {
     "data": {
      "text/plain": [
       "<generator object TextNormalizer.transform at 0x7fb0cf9c8ba0>"
      ]
     },
     "execution_count": 63,
     "metadata": {},
     "output_type": "execute_result"
    }
   ],
   "source": [
    "unlabelled_tweets = preprocess_pipe.transform(unlabelled_tweets)\n",
    "unlabelled_tweets"
   ]
  },
  {
   "cell_type": "code",
   "execution_count": 64,
   "id": "1841293f",
   "metadata": {},
   "outputs": [
    {
     "data": {
      "text/plain": [
       "3142"
      ]
     },
     "execution_count": 64,
     "metadata": {},
     "output_type": "execute_result"
    }
   ],
   "source": [
    "unlabelled_tweets = list(unlabelled_tweets)\n",
    "len(unlabelled_tweets)"
   ]
  },
  {
   "cell_type": "code",
   "execution_count": 69,
   "id": "24c5d98b",
   "metadata": {},
   "outputs": [],
   "source": [
    "bert_vec_test = bert.encode(unlabelled_tweets)"
   ]
  },
  {
   "cell_type": "code",
   "execution_count": null,
   "id": "a6407c2b",
   "metadata": {},
   "outputs": [],
   "source": [
    "type(bert_vec_test)"
   ]
  },
  {
   "cell_type": "code",
   "execution_count": 66,
   "id": "a3d3b3dd",
   "metadata": {},
   "outputs": [],
   "source": [
    "y_pred_test = clf3.predict(bert_vec_test)\n",
    "#print(y_pred_test)"
   ]
  },
  {
   "cell_type": "code",
   "execution_count": 73,
   "id": "852d6767",
   "metadata": {},
   "outputs": [],
   "source": [
    "bert_df = pd.DataFrame({\n",
    "    \"Tweet\" : corpus_test['Tweet'], \n",
    "    \"Emotion\": y_pred_test\n",
    "})"
   ]
  },
  {
   "cell_type": "code",
   "execution_count": 74,
   "id": "708cbcf5",
   "metadata": {},
   "outputs": [
    {
     "data": {
      "text/html": [
       "<div>\n",
       "<style scoped>\n",
       "    .dataframe tbody tr th:only-of-type {\n",
       "        vertical-align: middle;\n",
       "    }\n",
       "\n",
       "    .dataframe tbody tr th {\n",
       "        vertical-align: top;\n",
       "    }\n",
       "\n",
       "    .dataframe thead th {\n",
       "        text-align: right;\n",
       "    }\n",
       "</style>\n",
       "<table border=\"1\" class=\"dataframe\">\n",
       "  <thead>\n",
       "    <tr style=\"text-align: right;\">\n",
       "      <th></th>\n",
       "      <th>Tweet</th>\n",
       "      <th>Emotion</th>\n",
       "    </tr>\n",
       "  </thead>\n",
       "  <tbody>\n",
       "    <tr>\n",
       "      <th>0</th>\n",
       "      <td>At the point today where if someone says somet...</td>\n",
       "      <td>fear</td>\n",
       "    </tr>\n",
       "    <tr>\n",
       "      <th>1</th>\n",
       "      <td>@CorningFootball  IT'S GAME DAY!!!!      T MIN...</td>\n",
       "      <td>sadness</td>\n",
       "    </tr>\n",
       "    <tr>\n",
       "      <th>2</th>\n",
       "      <td>This game has pissed me off more than any othe...</td>\n",
       "      <td>anger</td>\n",
       "    </tr>\n",
       "    <tr>\n",
       "      <th>3</th>\n",
       "      <td>@spamvicious I've just found out it's Candice ...</td>\n",
       "      <td>joy</td>\n",
       "    </tr>\n",
       "    <tr>\n",
       "      <th>4</th>\n",
       "      <td>@moocowward @mrsajhargreaves @Melly77 @GaryBar...</td>\n",
       "      <td>fear</td>\n",
       "    </tr>\n",
       "  </tbody>\n",
       "</table>\n",
       "</div>"
      ],
      "text/plain": [
       "                                               Tweet  Emotion\n",
       "0  At the point today where if someone says somet...     fear\n",
       "1  @CorningFootball  IT'S GAME DAY!!!!      T MIN...  sadness\n",
       "2  This game has pissed me off more than any othe...    anger\n",
       "3  @spamvicious I've just found out it's Candice ...      joy\n",
       "4  @moocowward @mrsajhargreaves @Melly77 @GaryBar...     fear"
      ]
     },
     "execution_count": 74,
     "metadata": {},
     "output_type": "execute_result"
    }
   ],
   "source": [
    "bert_df.head()"
   ]
  },
  {
   "cell_type": "code",
   "execution_count": 76,
   "id": "0cfce1a7",
   "metadata": {},
   "outputs": [],
   "source": [
    "bert_df.to_excel(r'\\Users\\victoriavillani\\Desktop\\bert_labelled_test_data.xlsx', index=False)"
   ]
  }
 ],
 "metadata": {
  "kernelspec": {
   "display_name": "Python 3 (ipykernel)",
   "language": "python",
   "name": "python3"
  },
  "language_info": {
   "codemirror_mode": {
    "name": "ipython",
    "version": 3
   },
   "file_extension": ".py",
   "mimetype": "text/x-python",
   "name": "python",
   "nbconvert_exporter": "python",
   "pygments_lexer": "ipython3",
   "version": "3.9.13"
  }
 },
 "nbformat": 4,
 "nbformat_minor": 5
}
